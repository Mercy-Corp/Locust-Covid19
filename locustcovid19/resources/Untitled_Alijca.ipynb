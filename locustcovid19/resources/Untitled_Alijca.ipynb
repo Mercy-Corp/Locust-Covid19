{
 "cells": [
  {
   "cell_type": "code",
   "execution_count": 2,
   "metadata": {},
   "outputs": [],
   "source": [
    "import datetime\n",
    "import pandas as pd\n",
    "from datetime import timedelta, date"
   ]
  },
  {
   "cell_type": "code",
   "execution_count": 7,
   "metadata": {},
   "outputs": [],
   "source": [
    "class DataGenerator:\n",
    "    \n",
    "    def __init__ (self, range_start, range_end):\n",
    "        self.range_start = range_start\n",
    "        self.range_end = range_end\n",
    "        self.generate()\n",
    "              \n",
    "    def daterange(self):\n",
    "        for n in range(int ((self.range_end - self.range_start).days)+1):\n",
    "            yield self.range_start + timedelta(n)\n",
    "            \n",
    "    def generate(self):\n",
    "        self.rows_list = []\n",
    "        for dt in self.daterange():\n",
    "            self.rows_list.append([dt.strftime(\"%Y%m%d\"),dt.strftime(\"%Y-%m-%d\")])\n",
    "        self.df = pd.DataFrame(self.rows_list)\n",
    "        \n",
    "start_dt = date(2000, 1, 1) \n",
    "end_dt = date(2023,1, 1)\n",
    "datagenerator = DataGenerator(start_dt, end_dt)\n",
    "\n",
    "df2=datagenerator.df\n",
    "\n"
   ]
  },
  {
   "cell_type": "code",
   "execution_count": null,
   "metadata": {},
   "outputs": [],
   "source": []
  }
 ],
 "metadata": {
  "kernelspec": {
   "display_name": "Python 3",
   "language": "python",
   "name": "python3"
  },
  "language_info": {
   "codemirror_mode": {
    "name": "ipython",
    "version": 3
   },
   "file_extension": ".py",
   "mimetype": "text/x-python",
   "name": "python",
   "nbconvert_exporter": "python",
   "pygments_lexer": "ipython3",
   "version": "3.7.3"
  }
 },
 "nbformat": 4,
 "nbformat_minor": 2
}
