{
 "cells": [
  {
   "cell_type": "code",
   "execution_count": 3,
   "metadata": {},
   "outputs": [],
   "source": [
    "#!/usr/bin/env python\n",
    "# coding: utf-8\n",
    "\n",
    "# In[ ]:\n",
    "\n",
    "\n",
    "import pandas as pd\n",
    "\n",
    "class EventType:\n",
    "\n",
    "    def __init__(self, file_path, events_dict_path):\n",
    "        self.file_path = file_path\n",
    "        self.events_dict_path = events_dict_path\n",
    "        self.append()\n",
    "\n",
    "    def get_new_events(self, file_path):\n",
    "        df_events = pd.read_excel(file_path)\n",
    "        df_events = df_events['EVENT_TYPE'].unique()\n",
    "        return set(df_events.tolist())\n",
    "\n",
    "    def get_old_events(self, file_path):\n",
    "        df_events = pd.read_csv(file_path, sep=',')\n",
    "        df_events = df_events['event_type'].unique()\n",
    "        return set(df_events.tolist())\n",
    "\n",
    "    def compare(self):\n",
    "        new_events = self.get_new_events(self.file_path)\n",
    "        old_events = self.get_old_events(self.events_dict_path)\n",
    "        self.diff = new_events-old_events\n",
    "\n",
    "    def append(self):\n",
    "        self.compare()\n",
    "        self.df_dict = pd.read_csv(self.events_dict_path, sep=',')\n",
    "        max_id = self.df_dict['eventID'].max()\n",
    "        for elem in list(self.diff):\n",
    "            max_id += 1\n",
    "            self.df_dict = self.df_dict.append({'eventID':max_id, 'event_type':elem}, ignore_index=True)\n",
    "        self.df_dict.to_csv(self.events_dict_path, index=False)\n",
    "\n",
    "new_events=EventType('Africa_1997-2020_Jun13.xlsx', 'events.csv')        \n"
   ]
  },
  {
   "cell_type": "code",
   "execution_count": null,
   "metadata": {},
   "outputs": [],
   "source": []
  },
  {
   "cell_type": "code",
   "execution_count": null,
   "metadata": {},
   "outputs": [],
   "source": []
  }
 ],
 "metadata": {
  "kernelspec": {
   "display_name": "Python 3",
   "language": "python",
   "name": "python3"
  },
  "language_info": {
   "codemirror_mode": {
    "name": "ipython",
    "version": 3
   },
   "file_extension": ".py",
   "mimetype": "text/x-python",
   "name": "python",
   "nbconvert_exporter": "python",
   "pygments_lexer": "ipython3",
   "version": "3.7.3"
  }
 },
 "nbformat": 4,
 "nbformat_minor": 2
}
