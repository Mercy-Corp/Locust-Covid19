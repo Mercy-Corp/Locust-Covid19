{
 "cells": [
  {
   "cell_type": "code",
   "execution_count": 1,
   "metadata": {},
   "outputs": [],
   "source": [
    "import numpy as np\n",
    "import os\n",
    "import re"
   ]
  },
  {
   "cell_type": "code",
   "execution_count": 2,
   "metadata": {},
   "outputs": [],
   "source": [
    "def split_filename(filename):\n",
    "    filename_split = re.split('[_ .]',filename) #should have 4 strings\n",
    "    table_name = filename_split[0] + \"_\" + filename_split[1]\n",
    "    extension = filename_split[3]\n",
    "    date = filename_split[2]\n",
    "    return table_name, date, extension"
   ]
  },
  {
   "cell_type": "code",
   "execution_count": 3,
   "metadata": {},
   "outputs": [],
   "source": [
    "def get_file(filename):\n",
    "    \n",
    "    #filename should be in form production_table_20200603.csv or .parquet\n",
    "    #with name_name_yearmonthday\n",
    "    print(os.getcwd())\n",
    "    path = os.getcwd() + \"\\\\Data\"\n",
    "            \n",
    "    filename_split = re.split('[.]',filename) #should have 4 strings\n",
    "    table = filename_split[0]\n",
    "    extension = filename_split[1]\n",
    "    \n",
    "    print(\"\\nInput table: \",len(table))\n",
    "    print(\"Extension: \",len(extension))\n",
    "    \n",
    "    files = os.listdir(path)\n",
    "    \n",
    "    if '.ipynb_checkpoints' in files:\n",
    "        files.remove('.ipynb_checkpoints')\n",
    "    \n",
    "    print(\"\\nAll files found: \",files)\n",
    "    \n",
    "    date = []\n",
    "    index = []\n",
    "    count = 0\n",
    "    found = 0\n",
    "    for file in files:\n",
    "        tablei, datei, extensioni = split_filename(file)\n",
    "        print(len(tablei))\n",
    "        if (tablei == table) and (extensioni == extension): #first select all tables of this type\n",
    "            date.append(datei)\n",
    "            index.append(count)\n",
    "            found = 1\n",
    "        count += 1\n",
    "    \n",
    "    if found == 0:\n",
    "        print(\"\\nError: This table type does not exist\")\n",
    "        most_recent = 0\n",
    "    #Now you've collected all files of a particular table and file type, now find most recent one:\n",
    "    \n",
    "    else:\n",
    "        most_recent_arg = np.argmax(np.array(date))\n",
    "        most_recent = files[index[most_recent_arg]]\n",
    "    \n",
    "    return most_recent\n"
   ]
  },
  {
   "cell_type": "code",
   "execution_count": 4,
   "metadata": {},
   "outputs": [
    {
     "name": "stdout",
     "output_type": "stream",
     "text": [
      "C:\\Users\\linnea.evanson\\PycharmProjects\\ADP_Project\\Locust-Covid19\\my_package\n",
      "\n",
      "Input table:  16\n",
      "Extension:  3\n",
      "\n",
      "All files found:  ['input', 'output']\n"
     ]
    },
    {
     "ename": "IndexError",
     "evalue": "list index out of range",
     "output_type": "error",
     "traceback": [
      "\u001b[1;31m---------------------------------------------------------------------------\u001b[0m",
      "\u001b[1;31mIndexError\u001b[0m                                Traceback (most recent call last)",
      "\u001b[1;32m<ipython-input-4-534033e45d25>\u001b[0m in \u001b[0;36m<module>\u001b[1;34m\u001b[0m\n\u001b[1;32m----> 1\u001b[1;33m \u001b[0mget_file\u001b[0m\u001b[1;33m(\u001b[0m\u001b[1;34m\"population_table.csv\"\u001b[0m\u001b[1;33m)\u001b[0m\u001b[1;33m\u001b[0m\u001b[1;33m\u001b[0m\u001b[0m\n\u001b[0m",
      "\u001b[1;32m<ipython-input-3-15c6f04ab9e3>\u001b[0m in \u001b[0;36mget_file\u001b[1;34m(filename)\u001b[0m\n\u001b[0;32m     25\u001b[0m     \u001b[0mfound\u001b[0m \u001b[1;33m=\u001b[0m \u001b[1;36m0\u001b[0m\u001b[1;33m\u001b[0m\u001b[1;33m\u001b[0m\u001b[0m\n\u001b[0;32m     26\u001b[0m     \u001b[1;32mfor\u001b[0m \u001b[0mfile\u001b[0m \u001b[1;32min\u001b[0m \u001b[0mfiles\u001b[0m\u001b[1;33m:\u001b[0m\u001b[1;33m\u001b[0m\u001b[1;33m\u001b[0m\u001b[0m\n\u001b[1;32m---> 27\u001b[1;33m         \u001b[0mtablei\u001b[0m\u001b[1;33m,\u001b[0m \u001b[0mdatei\u001b[0m\u001b[1;33m,\u001b[0m \u001b[0mextensioni\u001b[0m \u001b[1;33m=\u001b[0m \u001b[0msplit_filename\u001b[0m\u001b[1;33m(\u001b[0m\u001b[0mfile\u001b[0m\u001b[1;33m)\u001b[0m\u001b[1;33m\u001b[0m\u001b[1;33m\u001b[0m\u001b[0m\n\u001b[0m\u001b[0;32m     28\u001b[0m         \u001b[0mprint\u001b[0m\u001b[1;33m(\u001b[0m\u001b[0mlen\u001b[0m\u001b[1;33m(\u001b[0m\u001b[0mtablei\u001b[0m\u001b[1;33m)\u001b[0m\u001b[1;33m)\u001b[0m\u001b[1;33m\u001b[0m\u001b[1;33m\u001b[0m\u001b[0m\n\u001b[0;32m     29\u001b[0m         \u001b[1;32mif\u001b[0m \u001b[1;33m(\u001b[0m\u001b[0mtablei\u001b[0m \u001b[1;33m==\u001b[0m \u001b[0mtable\u001b[0m\u001b[1;33m)\u001b[0m \u001b[1;32mand\u001b[0m \u001b[1;33m(\u001b[0m\u001b[0mextensioni\u001b[0m \u001b[1;33m==\u001b[0m \u001b[0mextension\u001b[0m\u001b[1;33m)\u001b[0m\u001b[1;33m:\u001b[0m \u001b[1;31m#first select all tables of this type\u001b[0m\u001b[1;33m\u001b[0m\u001b[1;33m\u001b[0m\u001b[0m\n",
      "\u001b[1;32m<ipython-input-2-c38a8984bc9a>\u001b[0m in \u001b[0;36msplit_filename\u001b[1;34m(filename)\u001b[0m\n\u001b[0;32m      1\u001b[0m \u001b[1;32mdef\u001b[0m \u001b[0msplit_filename\u001b[0m\u001b[1;33m(\u001b[0m\u001b[0mfilename\u001b[0m\u001b[1;33m)\u001b[0m\u001b[1;33m:\u001b[0m\u001b[1;33m\u001b[0m\u001b[1;33m\u001b[0m\u001b[0m\n\u001b[0;32m      2\u001b[0m     \u001b[0mfilename_split\u001b[0m \u001b[1;33m=\u001b[0m \u001b[0mre\u001b[0m\u001b[1;33m.\u001b[0m\u001b[0msplit\u001b[0m\u001b[1;33m(\u001b[0m\u001b[1;34m'[_ .]'\u001b[0m\u001b[1;33m,\u001b[0m\u001b[0mfilename\u001b[0m\u001b[1;33m)\u001b[0m \u001b[1;31m#should have 4 strings\u001b[0m\u001b[1;33m\u001b[0m\u001b[1;33m\u001b[0m\u001b[0m\n\u001b[1;32m----> 3\u001b[1;33m     \u001b[0mtable_name\u001b[0m \u001b[1;33m=\u001b[0m \u001b[0mfilename_split\u001b[0m\u001b[1;33m[\u001b[0m\u001b[1;36m0\u001b[0m\u001b[1;33m]\u001b[0m \u001b[1;33m+\u001b[0m \u001b[1;34m\"_\"\u001b[0m \u001b[1;33m+\u001b[0m \u001b[0mfilename_split\u001b[0m\u001b[1;33m[\u001b[0m\u001b[1;36m1\u001b[0m\u001b[1;33m]\u001b[0m\u001b[1;33m\u001b[0m\u001b[1;33m\u001b[0m\u001b[0m\n\u001b[0m\u001b[0;32m      4\u001b[0m     \u001b[0mextension\u001b[0m \u001b[1;33m=\u001b[0m \u001b[0mfilename_split\u001b[0m\u001b[1;33m[\u001b[0m\u001b[1;36m3\u001b[0m\u001b[1;33m]\u001b[0m\u001b[1;33m\u001b[0m\u001b[1;33m\u001b[0m\u001b[0m\n\u001b[0;32m      5\u001b[0m     \u001b[0mdate\u001b[0m \u001b[1;33m=\u001b[0m \u001b[0mfilename_split\u001b[0m\u001b[1;33m[\u001b[0m\u001b[1;36m2\u001b[0m\u001b[1;33m]\u001b[0m\u001b[1;33m\u001b[0m\u001b[1;33m\u001b[0m\u001b[0m\n",
      "\u001b[1;31mIndexError\u001b[0m: list index out of range"
     ]
    }
   ],
   "source": [
    "get_file(\"population_table.csv\")"
   ]
  },
  {
   "cell_type": "code",
   "execution_count": null,
   "metadata": {},
   "outputs": [],
   "source": []
  }
 ],
 "metadata": {
  "kernelspec": {
   "display_name": "Python 3",
   "language": "python",
   "name": "python3"
  },
  "language_info": {
   "codemirror_mode": {
    "name": "ipython",
    "version": 3
   },
   "file_extension": ".py",
   "mimetype": "text/x-python",
   "name": "python",
   "nbconvert_exporter": "python",
   "pygments_lexer": "ipython3",
   "version": "3.8.3"
  }
 },
 "nbformat": 4,
 "nbformat_minor": 4
}
